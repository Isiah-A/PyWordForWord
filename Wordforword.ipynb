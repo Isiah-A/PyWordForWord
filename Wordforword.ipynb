{
 "cells": [
  {
   "cell_type": "code",
   "execution_count": 140,
   "id": "bbe5a4cb-a95d-4263-9667-d4d26a8f691a",
   "metadata": {},
   "outputs": [],
   "source": [
    "import pandas as pd \n",
    "import os\n",
    "import re\n",
    "import sqlite3\n",
    "\n",
    "class Word4word:\n",
    "    \n",
    "    def make_string(self, filename):\n",
    "        abso_path = os.path.dirname(os.path.abspath('/Users/isiah/Projects/P1/PyWordForWord/testdata'))\n",
    "        try:\n",
    "            file_path = abso_path + filename\n",
    "            with open(file_path, 'r') as file:\n",
    "                new_str = file.read()\n",
    "            return new_str\n",
    "        except FileNotFoundError:\n",
    "            return f\"File '{filename}' not found.\"\n",
    "        except IOError as e:\n",
    "            return f\"Error reading file: {e}\"\n",
    "\n",
    "    def word_freq(self, text):\n",
    "        rm_space = re.sub(r'[^\\w\\s]', '', text).lower()\n",
    "        split_txt = rm_space.split()\n",
    "        wrd_freq = pd.Series(split_txt).value_counts().reset_index()\n",
    "        return wrd_freq\n",
    "\n",
    "\n",
    "    def letter_freq(self, text):\n",
    "        rm_space = re.sub(r'[^a-zA-Z]', '', text).lower()\n",
    "        letters = pd.Series(list(rm_space)).value_counts().reset_index()\n",
    "        return letters"
   ]
  },
  {
   "cell_type": "code",
   "execution_count": 141,
   "id": "5a08579a-ba35-4c77-be8b-9e477d1317f1",
   "metadata": {},
   "outputs": [],
   "source": [
    "x = Word4word()"
   ]
  },
  {
   "cell_type": "code",
   "execution_count": 142,
   "id": "66c7245c-f0b0-4448-b20c-72720cf843ac",
   "metadata": {},
   "outputs": [],
   "source": [
    "file = x.make_string('/testdata/testdata0.txt')"
   ]
  },
  {
   "cell_type": "code",
   "execution_count": 143,
   "id": "1a12b8f4-f2bd-45b0-a1b8-b35ad5e4b905",
   "metadata": {},
   "outputs": [
    {
     "name": "stdout",
     "output_type": "stream",
     "text": [
      "Hello World.\n",
      "\n"
     ]
    }
   ],
   "source": [
    "print(file)"
   ]
  },
  {
   "cell_type": "code",
   "execution_count": 144,
   "id": "69379ba5-2446-43c4-a073-cfff8db0dade",
   "metadata": {},
   "outputs": [
    {
     "name": "stdout",
     "output_type": "stream",
     "text": [
      "   index  count\n",
      "0  hello      1\n",
      "1  world      1\n"
     ]
    }
   ],
   "source": [
    "print(x.word_freq(file))"
   ]
  },
  {
   "cell_type": "code",
   "execution_count": 139,
   "id": "6ee4576b-f2c5-437c-93dc-517714fc607f",
   "metadata": {},
   "outputs": [
    {
     "name": "stdout",
     "output_type": "stream",
     "text": [
      "  index  count\n",
      "0     l      3\n",
      "1     o      2\n",
      "2     h      1\n",
      "3     e      1\n",
      "4     w      1\n",
      "5     r      1\n",
      "6     d      1\n"
     ]
    }
   ],
   "source": [
    "print(x.letter_freq(file))"
   ]
  },
  {
   "cell_type": "code",
   "execution_count": null,
   "id": "b54fe3b7-1dd6-4d31-bbb4-d2f82d7808ab",
   "metadata": {},
   "outputs": [],
   "source": []
  }
 ],
 "metadata": {
  "kernelspec": {
   "display_name": "Python 3 (ipykernel)",
   "language": "python",
   "name": "python3"
  },
  "language_info": {
   "codemirror_mode": {
    "name": "ipython",
    "version": 3
   },
   "file_extension": ".py",
   "mimetype": "text/x-python",
   "name": "python",
   "nbconvert_exporter": "python",
   "pygments_lexer": "ipython3",
   "version": "3.12.5"
  }
 },
 "nbformat": 4,
 "nbformat_minor": 5
}
